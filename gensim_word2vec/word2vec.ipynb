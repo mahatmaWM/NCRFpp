{
 "cells": [
  {
   "cell_type": "markdown",
   "metadata": {},
   "source": [
    "Copyright (C) 2016 - 2019 Pinard Liu(liujianping-ok@163.com)\n",
    "\n",
    "https://www.cnblogs.com/pinard\n",
    "\n",
    "Permission given to modify the code as long as you keep this declaration at the top\n",
    "\n",
    "用gensim学习word2vec https://www.cnblogs.com/pinard/p/7278324.html"
   ]
  },
  {
   "cell_type": "code",
   "execution_count": 7,
   "metadata": {},
   "outputs": [],
   "source": [
    "# -*- coding: utf-8 -*-\n",
    "\n",
    "import jieba, codecs\n",
    "import jieba.analyse\n",
    "\n",
    "jieba.suggest_freq('沙瑞金', True)\n",
    "jieba.suggest_freq('田国富', True)\n",
    "jieba.suggest_freq('高育良', True)\n",
    "jieba.suggest_freq('侯亮平', True)\n",
    "jieba.suggest_freq('钟小艾', True)\n",
    "jieba.suggest_freq('陈岩石', True)\n",
    "jieba.suggest_freq('欧阳菁', True)\n",
    "jieba.suggest_freq('易学习', True)\n",
    "jieba.suggest_freq('王大路', True)\n",
    "jieba.suggest_freq('蔡成功', True)\n",
    "jieba.suggest_freq('孙连城', True)\n",
    "jieba.suggest_freq('季昌明', True)\n",
    "jieba.suggest_freq('丁义珍', True)\n",
    "jieba.suggest_freq('郑西坡', True)\n",
    "jieba.suggest_freq('赵东来', True)\n",
    "jieba.suggest_freq('高小琴', True)\n",
    "jieba.suggest_freq('赵瑞龙', True)\n",
    "jieba.suggest_freq('林华华', True)\n",
    "jieba.suggest_freq('陆亦可', True)\n",
    "jieba.suggest_freq('刘新建', True)\n",
    "jieba.suggest_freq('刘庆祝', True)\n",
    "\n",
    "with codecs.open('./in_the_name_of_people.txt', 'r', 'utf-8') as f:\n",
    "    document = f.read()\n",
    "    document_cut = jieba.cut(document)\n",
    "    result = ' '.join(document_cut)\n",
    "    with codecs.open('./in_the_name_of_people_segment.txt', 'w', 'utf-8') as f2:\n",
    "        f2.write(result)"
   ]
  },
  {
   "cell_type": "code",
   "execution_count": 28,
   "metadata": {},
   "outputs": [
    {
     "name": "stderr",
     "output_type": "stream",
     "text": [
      "2019-06-05 14:19:04,626 : INFO : collecting all words and their counts\n",
      "2019-06-05 14:19:04,628 : INFO : PROGRESS: at sentence #0, processed 0 words, keeping 0 word types\n",
      "2019-06-05 14:19:04,696 : INFO : collected 17878 word types from a corpus of 161343 raw words and 2311 sentences\n",
      "2019-06-05 14:19:04,697 : INFO : Loading a fresh vocabulary\n",
      "2019-06-05 14:19:04,750 : INFO : effective_min_count=1 retains 17878 unique words (100% of original 17878, drops 0)\n",
      "2019-06-05 14:19:04,755 : INFO : effective_min_count=1 leaves 161343 word corpus (100% of original 161343, drops 0)\n",
      "2019-06-05 14:19:04,860 : INFO : deleting the raw counts dictionary of 17878 items\n",
      "2019-06-05 14:19:04,861 : INFO : sample=0.001 downsamples 38 most-common words\n",
      "2019-06-05 14:19:04,862 : INFO : downsampling leaves estimated 120578 word corpus (74.7% of prior 161343)\n",
      "2019-06-05 14:19:04,883 : INFO : constructing a huffman tree from 17878 words\n",
      "2019-06-05 14:19:05,424 : INFO : built huffman tree with maximum node depth 17\n",
      "2019-06-05 14:19:05,447 : INFO : estimated required memory for 17878 words and 100 dimensions: 33968200 bytes\n",
      "2019-06-05 14:19:05,448 : INFO : resetting layer weights\n",
      "2019-06-05 14:19:05,634 : INFO : training model with 3 workers on 17878 vocabulary and 100 features, using sg=0 hs=1 sample=0.001 negative=5 window=3\n",
      "2019-06-05 14:19:05,838 : INFO : worker thread finished; awaiting finish of 2 more threads\n",
      "2019-06-05 14:19:05,843 : INFO : worker thread finished; awaiting finish of 1 more threads\n",
      "2019-06-05 14:19:05,852 : INFO : worker thread finished; awaiting finish of 0 more threads\n",
      "2019-06-05 14:19:05,853 : INFO : EPOCH - 1 : training on 161343 raw words (120329 effective words) took 0.2s, 587365 effective words/s\n",
      "2019-06-05 14:19:06,073 : INFO : worker thread finished; awaiting finish of 2 more threads\n",
      "2019-06-05 14:19:06,084 : INFO : worker thread finished; awaiting finish of 1 more threads\n",
      "2019-06-05 14:19:06,093 : INFO : worker thread finished; awaiting finish of 0 more threads\n",
      "2019-06-05 14:19:06,094 : INFO : EPOCH - 2 : training on 161343 raw words (120484 effective words) took 0.2s, 505132 effective words/s\n",
      "2019-06-05 14:19:06,288 : INFO : worker thread finished; awaiting finish of 2 more threads\n",
      "2019-06-05 14:19:06,290 : INFO : worker thread finished; awaiting finish of 1 more threads\n",
      "2019-06-05 14:19:06,303 : INFO : worker thread finished; awaiting finish of 0 more threads\n",
      "2019-06-05 14:19:06,303 : INFO : EPOCH - 3 : training on 161343 raw words (120571 effective words) took 0.2s, 584972 effective words/s\n",
      "2019-06-05 14:19:06,495 : INFO : worker thread finished; awaiting finish of 2 more threads\n",
      "2019-06-05 14:19:06,501 : INFO : worker thread finished; awaiting finish of 1 more threads\n",
      "2019-06-05 14:19:06,512 : INFO : worker thread finished; awaiting finish of 0 more threads\n",
      "2019-06-05 14:19:06,512 : INFO : EPOCH - 4 : training on 161343 raw words (120615 effective words) took 0.2s, 584264 effective words/s\n",
      "2019-06-05 14:19:06,720 : INFO : worker thread finished; awaiting finish of 2 more threads\n",
      "2019-06-05 14:19:06,721 : INFO : worker thread finished; awaiting finish of 1 more threads\n",
      "2019-06-05 14:19:06,732 : INFO : worker thread finished; awaiting finish of 0 more threads\n",
      "2019-06-05 14:19:06,733 : INFO : EPOCH - 5 : training on 161343 raw words (120482 effective words) took 0.2s, 550685 effective words/s\n",
      "2019-06-05 14:19:06,974 : INFO : worker thread finished; awaiting finish of 2 more threads\n",
      "2019-06-05 14:19:06,975 : INFO : worker thread finished; awaiting finish of 1 more threads\n",
      "2019-06-05 14:19:06,991 : INFO : worker thread finished; awaiting finish of 0 more threads\n",
      "2019-06-05 14:19:06,991 : INFO : EPOCH - 6 : training on 161343 raw words (120623 effective words) took 0.3s, 472827 effective words/s\n",
      "2019-06-05 14:19:07,199 : INFO : worker thread finished; awaiting finish of 2 more threads\n",
      "2019-06-05 14:19:07,202 : INFO : worker thread finished; awaiting finish of 1 more threads\n",
      "2019-06-05 14:19:07,213 : INFO : worker thread finished; awaiting finish of 0 more threads\n",
      "2019-06-05 14:19:07,213 : INFO : EPOCH - 7 : training on 161343 raw words (120391 effective words) took 0.2s, 547243 effective words/s\n",
      "2019-06-05 14:19:07,419 : INFO : worker thread finished; awaiting finish of 2 more threads\n",
      "2019-06-05 14:19:07,419 : INFO : worker thread finished; awaiting finish of 1 more threads\n",
      "2019-06-05 14:19:07,424 : INFO : worker thread finished; awaiting finish of 0 more threads\n",
      "2019-06-05 14:19:07,424 : INFO : EPOCH - 8 : training on 161343 raw words (120558 effective words) took 0.2s, 576454 effective words/s\n",
      "2019-06-05 14:19:07,625 : INFO : worker thread finished; awaiting finish of 2 more threads\n",
      "2019-06-05 14:19:07,629 : INFO : worker thread finished; awaiting finish of 1 more threads\n",
      "2019-06-05 14:19:07,636 : INFO : worker thread finished; awaiting finish of 0 more threads\n",
      "2019-06-05 14:19:07,637 : INFO : EPOCH - 9 : training on 161343 raw words (120747 effective words) took 0.2s, 571875 effective words/s\n",
      "2019-06-05 14:19:07,842 : INFO : worker thread finished; awaiting finish of 2 more threads\n",
      "2019-06-05 14:19:07,850 : INFO : worker thread finished; awaiting finish of 1 more threads\n",
      "2019-06-05 14:19:07,858 : INFO : worker thread finished; awaiting finish of 0 more threads\n",
      "2019-06-05 14:19:07,858 : INFO : EPOCH - 10 : training on 161343 raw words (120549 effective words) took 0.2s, 549111 effective words/s\n",
      "2019-06-05 14:19:07,859 : INFO : training on a 1613430 raw words (1205349 effective words) took 2.2s, 542129 effective words/s\n",
      "2019-06-05 14:19:07,875 : INFO : storing 17878x100 projection weights into in_the_name_of_people_emb.txt\n"
     ]
    }
   ],
   "source": [
    "# import modules & set up logging\n",
    "import logging\n",
    "import os\n",
    "from gensim.models import word2vec\n",
    "\n",
    "logging.basicConfig(format='%(asctime)s : %(levelname)s : %(message)s', level=logging.INFO)\n",
    "sentences = word2vec.LineSentence('./in_the_name_of_people_segment.txt') \n",
    "# for sentence in sentences:\n",
    "#     logging.info(sentence)\n",
    "model = word2vec.Word2Vec(sentences, hs=1, min_count=1, window=3, size=100, iter=10) \n",
    "model.wv.save_word2vec_format('in_the_name_of_people_emb.txt')\n"
   ]
  },
  {
   "cell_type": "code",
   "execution_count": 29,
   "metadata": {},
   "outputs": [
    {
     "name": "stderr",
     "output_type": "stream",
     "text": [
      "2019-06-05 14:19:19,618 : INFO : precomputing L2-norms of word weight vectors\n"
     ]
    },
    {
     "name": "stdout",
     "output_type": "stream",
     "text": [
      "高育良 0.8704541325569153\n",
      "沙瑞金 0.8537372350692749\n",
      "祁同伟 0.8507247567176819\n",
      "侯亮平 0.8501299619674683\n",
      "季昌明 0.8454056978225708\n"
     ]
    },
    {
     "name": "stderr",
     "output_type": "stream",
     "text": [
      "/anaconda3/lib/python3.6/site-packages/gensim/matutils.py:737: FutureWarning: Conversion of the second argument of issubdtype from `int` to `np.signedinteger` is deprecated. In future, it will be treated as `np.int64 == np.dtype(int).type`.\n",
      "  if np.issubdtype(vec.dtype, np.int):\n"
     ]
    }
   ],
   "source": [
    "req_count = 5\n",
    "for key in model.wv.similar_by_word('李达康', topn =100):\n",
    "    if len(key[0])==3:\n",
    "        req_count -= 1\n",
    "        logging.info(key[0], key[1])\n",
    "        if req_count == 0:\n",
    "            break;"
   ]
  },
  {
   "cell_type": "code",
   "execution_count": 17,
   "metadata": {},
   "outputs": [
    {
     "name": "stdout",
     "output_type": "stream",
     "text": [
      "高育良 0.9730877876281738\n",
      "李达康 0.9461990594863892\n",
      "侯亮平 0.9447282552719116\n",
      "田国富 0.9401482939720154\n",
      "易学习 0.9315924048423767\n"
     ]
    }
   ],
   "source": [
    "req_count = 5\n",
    "for key in model.wv.similar_by_word('沙瑞金', topn =100):\n",
    "    if len(key[0])==3:\n",
    "        req_count -= 1\n",
    "        logging.info(key[0], key[1])\n",
    "        if req_count == 0:\n",
    "            break;"
   ]
  },
  {
   "cell_type": "code",
   "execution_count": 19,
   "metadata": {},
   "outputs": [
    {
     "name": "stdout",
     "output_type": "stream",
     "text": [
      "0.9730877\n",
      "0.94175184\n"
     ]
    }
   ],
   "source": [
    "logging.info(model.wv.similarity('沙瑞金', '高育良'))\n",
    "logging.info(model.wv.similarity('李达康', '王大路'))"
   ]
  },
  {
   "cell_type": "code",
   "execution_count": 20,
   "metadata": {},
   "outputs": [
    {
     "name": "stdout",
     "output_type": "stream",
     "text": [
      "刘庆祝\n"
     ]
    }
   ],
   "source": [
    "logging.info(model.wv.doesnt_match(u\"沙瑞金 高育良 李达康 刘庆祝\".split()))"
   ]
  },
  {
   "cell_type": "code",
   "execution_count": 34,
   "metadata": {},
   "outputs": [
    {
     "name": "stderr",
     "output_type": "stream",
     "text": [
      "/anaconda3/lib/python3.6/site-packages/ipykernel_launcher.py:6: DeprecationWarning: Call to deprecated `__getitem__` (Method will be removed in 4.0.0, use self.wv.__getitem__() instead).\n",
      "  \n"
     ]
    },
    {
     "data": {
      "image/png": "[encoded data removed]",
      "text/plain": [
       "<Figure size 432x288 with 1 Axes>"
      ]
     },
     "metadata": {
      "needs_background": "light"
     },
     "output_type": "display_data"
    }
   ],
   "source": [
    "%matplotlib inline\n",
    "from sklearn.decomposition import PCA\n",
    "from matplotlib import pyplot\n",
    "\n",
    "# fit a 2d PCA model to the vectors\n",
    "X = model[model.wv.vocab]\n",
    "pca = PCA(n_components=2)\n",
    "result = pca.fit_transform(X)\n",
    "# create a scatter plot of the projection\n",
    "pyplot.scatter(result[:, 0], result[:, 1])\n",
    "words = list(model.wv.vocab)\n",
    "for i, word in enumerate(words):\n",
    "    pyplot.annotate(word, xy=(result[i, 0], result[i, 1]))\n",
    "pyplot.show()"
   ]
  },
  {
   "cell_type": "code",
   "execution_count": null,
   "metadata": {},
   "outputs": [],
   "source": []
  }
 ],
 "metadata": {
  "kernelspec": {
   "display_name": "Python 3",
   "language": "python",
   "name": "python3"
  },
  "language_info": {
   "codemirror_mode": {
    "name": "ipython",
    "version": 3
   },
   "file_extension": ".py",
   "mimetype": "text/x-python",
   "name": "python",
   "nbconvert_exporter": "python",
   "pygments_lexer": "ipython3",
   "version": "3.6.7"
  },
  "latex_envs": {
   "LaTeX_envs_menu_present": true,
   "autoclose": false,
   "autocomplete": true,
   "bibliofile": "biblio.bib",
   "cite_by": "apalike",
   "current_citInitial": 1,
   "eqLabelWithNumbers": true,
   "eqNumInitial": 1,
   "hotkeys": {
    "equation": "Ctrl-E",
    "itemize": "Ctrl-I"
   },
   "labels_anchors": false,
   "latex_user_defs": false,
   "report_style_numbering": false,
   "user_envs_cfg": false
  }
 },
 "nbformat": 4,
 "nbformat_minor": 1
}
